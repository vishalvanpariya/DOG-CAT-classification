{
 "cells": [
  {
   "cell_type": "code",
   "execution_count": 2,
   "metadata": {
    "colab": {},
    "colab_type": "code",
    "executionInfo": {
     "elapsed": 13773,
     "status": "ok",
     "timestamp": 1597494056212,
     "user": {
      "displayName": "Vishal Vanpariya",
      "photoUrl": "https://lh3.googleusercontent.com/a-/AOh14GjoJCODMCI9tWxHtOBKfgh2TVA6e1WZehcTvuutNg=s64",
      "userId": "03081609474255309688"
     },
     "user_tz": -330
    },
    "id": "RpY296Cj8tYY"
   },
   "outputs": [],
   "source": [
    "!cp /content/drive/My\\ Drive/Colab\\ Notebooks/abc.zip /content"
   ]
  },
  {
   "cell_type": "code",
   "execution_count": 3,
   "metadata": {
    "colab": {},
    "colab_type": "code",
    "executionInfo": {
     "elapsed": 4023,
     "status": "ok",
     "timestamp": 1597494065535,
     "user": {
      "displayName": "Vishal Vanpariya",
      "photoUrl": "https://lh3.googleusercontent.com/a-/AOh14GjoJCODMCI9tWxHtOBKfgh2TVA6e1WZehcTvuutNg=s64",
      "userId": "03081609474255309688"
     },
     "user_tz": -330
    },
    "id": "NQIYz7Ob9Iay"
   },
   "outputs": [],
   "source": [
    "from zipfile import ZipFile\n",
    "with ZipFile('abc.zip','r') as zip:\n",
    "\tzip.extractall()"
   ]
  },
  {
   "cell_type": "code",
   "execution_count": 4,
   "metadata": {
    "colab": {
     "base_uri": "https://localhost:8080/",
     "height": 258
    },
    "colab_type": "code",
    "executionInfo": {
     "elapsed": 20169,
     "status": "ok",
     "timestamp": 1597494088335,
     "user": {
      "displayName": "Vishal Vanpariya",
      "photoUrl": "https://lh3.googleusercontent.com/a-/AOh14GjoJCODMCI9tWxHtOBKfgh2TVA6e1WZehcTvuutNg=s64",
      "userId": "03081609474255309688"
     },
     "user_tz": -330
    },
    "id": "_qUhvSEQ-Esw",
    "outputId": "3c45dc7b-76a8-4b32-ab4b-ae854ed29bf7"
   },
   "outputs": [
    {
     "name": "stdout",
     "output_type": "stream",
     "text": [
      "Collecting gputil\n",
      "  Downloading https://files.pythonhosted.org/packages/ed/0e/5c61eedde9f6c87713e89d794f01e378cfd9565847d4576fa627d758c554/GPUtil-1.4.0.tar.gz\n",
      "Building wheels for collected packages: gputil\n",
      "  Building wheel for gputil (setup.py) ... \u001b[?25l\u001b[?25hdone\n",
      "  Created wheel for gputil: filename=GPUtil-1.4.0-cp36-none-any.whl size=7413 sha256=a0782d9a589b6ef2a986b128511629c118aa81ec097ad9b4320798ec24456fc8\n",
      "  Stored in directory: /root/.cache/pip/wheels/3d/77/07/80562de4bb0786e5ea186911a2c831fdd0018bda69beab71fd\n",
      "Successfully built gputil\n",
      "Installing collected packages: gputil\n",
      "Successfully installed gputil-1.4.0\n",
      "Requirement already satisfied: psutil in /usr/local/lib/python3.6/dist-packages (5.4.8)\n",
      "Requirement already satisfied: humanize in /usr/local/lib/python3.6/dist-packages (0.5.1)\n",
      "Gen RAM Free: 12.7 GB  | Proc size: 119.5 MB\n",
      "GPU RAM Free: 15079MB | Used: 0MB | Util   0% | Total 15079MB\n"
     ]
    }
   ],
   "source": [
    "!ln -sf /opt/bin/nvidia-smi /usr/bin/nvidia-smi\n",
    "!pip install gputil\n",
    "!pip install psutil\n",
    "!pip install humanize\n",
    "import psutil\n",
    "import humanize\n",
    "import os\n",
    "import GPUtil as GPU\n",
    "GPUs = GPU.getGPUs()\n",
    "# XXX: only one GPU on Colab and isn’t guaranteed\n",
    "gpu = GPUs[0]\n",
    "def printm():\n",
    " process = psutil.Process(os.getpid())\n",
    " print(\"Gen RAM Free: \" + humanize.naturalsize( psutil.virtual_memory().available ), \" | Proc size: \" + humanize.naturalsize( process.memory_info().rss))\n",
    " print(\"GPU RAM Free: {0:.0f}MB | Used: {1:.0f}MB | Util {2:3.0f}% | Total {3:.0f}MB\".format(gpu.memoryFree, gpu.memoryUsed, gpu.memoryUtil*100, gpu.memoryTotal))\n",
    "printm() "
   ]
  },
  {
   "cell_type": "code",
   "execution_count": 6,
   "metadata": {
    "colab": {
     "base_uri": "https://localhost:8080/",
     "height": 34
    },
    "colab_type": "code",
    "executionInfo": {
     "elapsed": 1405,
     "status": "ok",
     "timestamp": 1597494117054,
     "user": {
      "displayName": "Vishal Vanpariya",
      "photoUrl": "https://lh3.googleusercontent.com/a-/AOh14GjoJCODMCI9tWxHtOBKfgh2TVA6e1WZehcTvuutNg=s64",
      "userId": "03081609474255309688"
     },
     "user_tz": -330
    },
    "id": "jlPT-wJ9-Rkf",
    "outputId": "d16a208f-d5a0-489e-dc0d-90b80d00bad7"
   },
   "outputs": [
    {
     "data": {
      "text/plain": [
       "[PhysicalDevice(name='/physical_device:GPU:0', device_type='GPU')]"
      ]
     },
     "execution_count": 6,
     "metadata": {
      "tags": []
     },
     "output_type": "execute_result"
    }
   ],
   "source": [
    "import tensorflow\n",
    "tensorflow.config.list_physical_devices('GPU')"
   ]
  },
  {
   "cell_type": "code",
   "execution_count": 7,
   "metadata": {
    "colab": {
     "base_uri": "https://localhost:8080/",
     "height": 35
    },
    "colab_type": "code",
    "executionInfo": {
     "elapsed": 1859,
     "status": "ok",
     "timestamp": 1597494132408,
     "user": {
      "displayName": "Vishal Vanpariya",
      "photoUrl": "https://lh3.googleusercontent.com/a-/AOh14GjoJCODMCI9tWxHtOBKfgh2TVA6e1WZehcTvuutNg=s64",
      "userId": "03081609474255309688"
     },
     "user_tz": -330
    },
    "id": "LWjcSivY8XNW",
    "outputId": "d252deae-72d0-4275-b86a-ace5f7558c44"
   },
   "outputs": [
    {
     "data": {
      "application/vnd.google.colaboratory.intrinsic+json": {
       "type": "string"
      },
      "text/plain": [
       "'2.3.0'"
      ]
     },
     "execution_count": 7,
     "metadata": {
      "tags": []
     },
     "output_type": "execute_result"
    }
   ],
   "source": [
    "from tensorflow.keras.layers import Input, Lambda, Dense,Flatten\n",
    "from tensorflow.keras.models import Model\n",
    "from tensorflow.keras.applications.vgg16 import VGG16\n",
    "from tensorflow.keras.applications.vgg16 import preprocess_input\n",
    "from tensorflow.keras.preprocessing import image\n",
    "from tensorflow.keras.preprocessing.image import ImageDataGenerator\n",
    "from tensorflow.keras.models import Sequential\n",
    "import numpy as np\n",
    "from glob import glob\n",
    "import matplotlib.pyplot as plt\n",
    "import tensorflow as tf\n",
    "tf.__version__"
   ]
  },
  {
   "cell_type": "code",
   "execution_count": 15,
   "metadata": {
    "colab": {},
    "colab_type": "code",
    "executionInfo": {
     "elapsed": 1281,
     "status": "ok",
     "timestamp": 1597494157600,
     "user": {
      "displayName": "Vishal Vanpariya",
      "photoUrl": "https://lh3.googleusercontent.com/a-/AOh14GjoJCODMCI9tWxHtOBKfgh2TVA6e1WZehcTvuutNg=s64",
      "userId": "03081609474255309688"
     },
     "user_tz": -330
    },
    "id": "a7GlsuUj8XNc"
   },
   "outputs": [],
   "source": [
    "IMAGE_SIZE=[224,224]"
   ]
  },
  {
   "cell_type": "code",
   "execution_count": 16,
   "metadata": {
    "colab": {},
    "colab_type": "code",
    "executionInfo": {
     "elapsed": 828,
     "status": "ok",
     "timestamp": 1597494159091,
     "user": {
      "displayName": "Vishal Vanpariya",
      "photoUrl": "https://lh3.googleusercontent.com/a-/AOh14GjoJCODMCI9tWxHtOBKfgh2TVA6e1WZehcTvuutNg=s64",
      "userId": "03081609474255309688"
     },
     "user_tz": -330
    },
    "id": "oStwBBn88XNg"
   },
   "outputs": [],
   "source": [
    "train_path='abc/train'\n",
    "test_path='abc/test'\n",
    "validation_path='abc/validation'"
   ]
  },
  {
   "cell_type": "code",
   "execution_count": 46,
   "metadata": {
    "colab": {},
    "colab_type": "code",
    "executionInfo": {
     "elapsed": 1539,
     "status": "ok",
     "timestamp": 1597494774507,
     "user": {
      "displayName": "Vishal Vanpariya",
      "photoUrl": "https://lh3.googleusercontent.com/a-/AOh14GjoJCODMCI9tWxHtOBKfgh2TVA6e1WZehcTvuutNg=s64",
      "userId": "03081609474255309688"
     },
     "user_tz": -330
    },
    "id": "cCA0j6l-8XNj"
   },
   "outputs": [],
   "source": [
    "vgg=VGG16(input_shape=IMAGE_SIZE+[3],weights='imagenet',include_top=False)"
   ]
  },
  {
   "cell_type": "code",
   "execution_count": 47,
   "metadata": {
    "colab": {},
    "colab_type": "code",
    "executionInfo": {
     "elapsed": 805,
     "status": "ok",
     "timestamp": 1597494775211,
     "user": {
      "displayName": "Vishal Vanpariya",
      "photoUrl": "https://lh3.googleusercontent.com/a-/AOh14GjoJCODMCI9tWxHtOBKfgh2TVA6e1WZehcTvuutNg=s64",
      "userId": "03081609474255309688"
     },
     "user_tz": -330
    },
    "id": "8g4PWN5x8XNm"
   },
   "outputs": [],
   "source": [
    "for layer in vgg.layers:\n",
    "    layer.trainable=False"
   ]
  },
  {
   "cell_type": "code",
   "execution_count": 48,
   "metadata": {
    "colab": {
     "base_uri": "https://localhost:8080/",
     "height": 34
    },
    "colab_type": "code",
    "executionInfo": {
     "elapsed": 1100,
     "status": "ok",
     "timestamp": 1597494776933,
     "user": {
      "displayName": "Vishal Vanpariya",
      "photoUrl": "https://lh3.googleusercontent.com/a-/AOh14GjoJCODMCI9tWxHtOBKfgh2TVA6e1WZehcTvuutNg=s64",
      "userId": "03081609474255309688"
     },
     "user_tz": -330
    },
    "id": "uqAi0ABZ8XNq",
    "outputId": "bc2f8346-b0cd-44ad-9640-6536cffd0a63"
   },
   "outputs": [
    {
     "data": {
      "text/plain": [
       "['abc/train/dogs', 'abc/train/cats']"
      ]
     },
     "execution_count": 48,
     "metadata": {
      "tags": []
     },
     "output_type": "execute_result"
    }
   ],
   "source": [
    "folders=glob('abc/train/*')\n",
    "folders"
   ]
  },
  {
   "cell_type": "code",
   "execution_count": 49,
   "metadata": {
    "colab": {},
    "colab_type": "code",
    "executionInfo": {
     "elapsed": 1898,
     "status": "ok",
     "timestamp": 1597494780626,
     "user": {
      "displayName": "Vishal Vanpariya",
      "photoUrl": "https://lh3.googleusercontent.com/a-/AOh14GjoJCODMCI9tWxHtOBKfgh2TVA6e1WZehcTvuutNg=s64",
      "userId": "03081609474255309688"
     },
     "user_tz": -330
    },
    "id": "cTR7mJHX8XNu"
   },
   "outputs": [],
   "source": [
    "x=Flatten()(vgg.output)"
   ]
  },
  {
   "cell_type": "code",
   "execution_count": 50,
   "metadata": {
    "colab": {},
    "colab_type": "code",
    "executionInfo": {
     "elapsed": 1099,
     "status": "ok",
     "timestamp": 1597494782360,
     "user": {
      "displayName": "Vishal Vanpariya",
      "photoUrl": "https://lh3.googleusercontent.com/a-/AOh14GjoJCODMCI9tWxHtOBKfgh2TVA6e1WZehcTvuutNg=s64",
      "userId": "03081609474255309688"
     },
     "user_tz": -330
    },
    "id": "eCQDnjrp8XNz"
   },
   "outputs": [],
   "source": [
    "prediction=Dense(len(folders),activation='softmax')(x)"
   ]
  },
  {
   "cell_type": "code",
   "execution_count": 69,
   "metadata": {
    "colab": {},
    "colab_type": "code",
    "executionInfo": {
     "elapsed": 1501,
     "status": "ok",
     "timestamp": 1597495781364,
     "user": {
      "displayName": "Vishal Vanpariya",
      "photoUrl": "https://lh3.googleusercontent.com/a-/AOh14GjoJCODMCI9tWxHtOBKfgh2TVA6e1WZehcTvuutNg=s64",
      "userId": "03081609474255309688"
     },
     "user_tz": -330
    },
    "id": "vZ8EmaNT8XN3"
   },
   "outputs": [],
   "source": [
    "model=Model(inputs=vgg.input,outputs=prediction)"
   ]
  },
  {
   "cell_type": "code",
   "execution_count": 70,
   "metadata": {
    "colab": {
     "base_uri": "https://localhost:8080/",
     "height": 867
    },
    "colab_type": "code",
    "executionInfo": {
     "elapsed": 2656,
     "status": "ok",
     "timestamp": 1597495784626,
     "user": {
      "displayName": "Vishal Vanpariya",
      "photoUrl": "https://lh3.googleusercontent.com/a-/AOh14GjoJCODMCI9tWxHtOBKfgh2TVA6e1WZehcTvuutNg=s64",
      "userId": "03081609474255309688"
     },
     "user_tz": -330
    },
    "id": "ULYz9b948XN6",
    "outputId": "84c4ef17-5498-4481-c380-4d0701830a69",
    "scrolled": false
   },
   "outputs": [
    {
     "name": "stdout",
     "output_type": "stream",
     "text": [
      "Model: \"functional_7\"\n",
      "_________________________________________________________________\n",
      "Layer (type)                 Output Shape              Param #   \n",
      "=================================================================\n",
      "input_2 (InputLayer)         [(None, 224, 224, 3)]     0         \n",
      "_________________________________________________________________\n",
      "block1_conv1 (Conv2D)        (None, 224, 224, 64)      1792      \n",
      "_________________________________________________________________\n",
      "block1_conv2 (Conv2D)        (None, 224, 224, 64)      36928     \n",
      "_________________________________________________________________\n",
      "block1_pool (MaxPooling2D)   (None, 112, 112, 64)      0         \n",
      "_________________________________________________________________\n",
      "block2_conv1 (Conv2D)        (None, 112, 112, 128)     73856     \n",
      "_________________________________________________________________\n",
      "block2_conv2 (Conv2D)        (None, 112, 112, 128)     147584    \n",
      "_________________________________________________________________\n",
      "block2_pool (MaxPooling2D)   (None, 56, 56, 128)       0         \n",
      "_________________________________________________________________\n",
      "block3_conv1 (Conv2D)        (None, 56, 56, 256)       295168    \n",
      "_________________________________________________________________\n",
      "block3_conv2 (Conv2D)        (None, 56, 56, 256)       590080    \n",
      "_________________________________________________________________\n",
      "block3_conv3 (Conv2D)        (None, 56, 56, 256)       590080    \n",
      "_________________________________________________________________\n",
      "block3_pool (MaxPooling2D)   (None, 28, 28, 256)       0         \n",
      "_________________________________________________________________\n",
      "block4_conv1 (Conv2D)        (None, 28, 28, 512)       1180160   \n",
      "_________________________________________________________________\n",
      "block4_conv2 (Conv2D)        (None, 28, 28, 512)       2359808   \n",
      "_________________________________________________________________\n",
      "block4_conv3 (Conv2D)        (None, 28, 28, 512)       2359808   \n",
      "_________________________________________________________________\n",
      "block4_pool (MaxPooling2D)   (None, 14, 14, 512)       0         \n",
      "_________________________________________________________________\n",
      "block5_conv1 (Conv2D)        (None, 14, 14, 512)       2359808   \n",
      "_________________________________________________________________\n",
      "block5_conv2 (Conv2D)        (None, 14, 14, 512)       2359808   \n",
      "_________________________________________________________________\n",
      "block5_conv3 (Conv2D)        (None, 14, 14, 512)       2359808   \n",
      "_________________________________________________________________\n",
      "block5_pool (MaxPooling2D)   (None, 7, 7, 512)         0         \n",
      "_________________________________________________________________\n",
      "flatten_3 (Flatten)          (None, 25088)             0         \n",
      "_________________________________________________________________\n",
      "dense_2 (Dense)              (None, 2)                 50178     \n",
      "=================================================================\n",
      "Total params: 14,764,866\n",
      "Trainable params: 50,178\n",
      "Non-trainable params: 14,714,688\n",
      "_________________________________________________________________\n"
     ]
    }
   ],
   "source": [
    "model.summary()"
   ]
  },
  {
   "cell_type": "code",
   "execution_count": 71,
   "metadata": {
    "colab": {},
    "colab_type": "code",
    "executionInfo": {
     "elapsed": 2424,
     "status": "ok",
     "timestamp": 1597495784628,
     "user": {
      "displayName": "Vishal Vanpariya",
      "photoUrl": "https://lh3.googleusercontent.com/a-/AOh14GjoJCODMCI9tWxHtOBKfgh2TVA6e1WZehcTvuutNg=s64",
      "userId": "03081609474255309688"
     },
     "user_tz": -330
    },
    "id": "bn3BetYU8XN-"
   },
   "outputs": [],
   "source": [
    "model.compile(\n",
    "    loss='categorical_crossentropy',\n",
    "    optimizer='adam',\n",
    "    metrics=['accuracy']\n",
    ")"
   ]
  },
  {
   "cell_type": "code",
   "execution_count": 72,
   "metadata": {
    "colab": {},
    "colab_type": "code",
    "executionInfo": {
     "elapsed": 2238,
     "status": "ok",
     "timestamp": 1597495784630,
     "user": {
      "displayName": "Vishal Vanpariya",
      "photoUrl": "https://lh3.googleusercontent.com/a-/AOh14GjoJCODMCI9tWxHtOBKfgh2TVA6e1WZehcTvuutNg=s64",
      "userId": "03081609474255309688"
     },
     "user_tz": -330
    },
    "id": "irB4CHmw8XOD"
   },
   "outputs": [],
   "source": [
    "train_datagen=ImageDataGenerator(\n",
    "    rescale=1./255,\n",
    "    shear_range=0.2,\n",
    "    zoom_range=0.2,\n",
    "    horizontal_flip=True\n",
    ")\n",
    "\n",
    "test_datagen=ImageDataGenerator(\n",
    "    rescale=1./255\n",
    ")\n",
    "val_datagen=ImageDataGenerator(\n",
    "    rescale=1./255\n",
    ")"
   ]
  },
  {
   "cell_type": "code",
   "execution_count": 73,
   "metadata": {
    "colab": {
     "base_uri": "https://localhost:8080/",
     "height": 68
    },
    "colab_type": "code",
    "executionInfo": {
     "elapsed": 2801,
     "status": "ok",
     "timestamp": 1597495785401,
     "user": {
      "displayName": "Vishal Vanpariya",
      "photoUrl": "https://lh3.googleusercontent.com/a-/AOh14GjoJCODMCI9tWxHtOBKfgh2TVA6e1WZehcTvuutNg=s64",
      "userId": "03081609474255309688"
     },
     "user_tz": -330
    },
    "id": "pcfD1wzW8XOG",
    "outputId": "55422fea-d079-45c4-b1a2-9425d2d52cc8"
   },
   "outputs": [
    {
     "name": "stdout",
     "output_type": "stream",
     "text": [
      "Found 6000 images belonging to 2 classes.\n",
      "Found 2000 images belonging to 2 classes.\n",
      "Found 2000 images belonging to 2 classes.\n"
     ]
    }
   ],
   "source": [
    "training_set=train_datagen.flow_from_directory(\n",
    "    train_path,\n",
    "    target_size=(224,224),\n",
    "    batch_size=32,\n",
    "    class_mode='categorical'\n",
    ")\n",
    "test_set=test_datagen.flow_from_directory(\n",
    "    test_path,\n",
    "    target_size=(224,224),\n",
    "    batch_size=32,\n",
    "    class_mode='categorical'\n",
    ")\n",
    "val_set=val_datagen.flow_from_directory(\n",
    "    validation_path,\n",
    "    target_size=(224,224),\n",
    "    batch_size=32,\n",
    "    class_mode='categorical'\n",
    ")"
   ]
  },
  {
   "cell_type": "code",
   "execution_count": 74,
   "metadata": {
    "colab": {
     "base_uri": "https://localhost:8080/",
     "height": 173
    },
    "colab_type": "code",
    "executionInfo": {
     "elapsed": 349810,
     "status": "ok",
     "timestamp": 1597496132504,
     "user": {
      "displayName": "Vishal Vanpariya",
      "photoUrl": "https://lh3.googleusercontent.com/a-/AOh14GjoJCODMCI9tWxHtOBKfgh2TVA6e1WZehcTvuutNg=s64",
      "userId": "03081609474255309688"
     },
     "user_tz": -330
    },
    "id": "MeaWOsVs8XOJ",
    "outputId": "64418470-236d-402d-9226-8ee7bdc037fa"
   },
   "outputs": [
    {
     "name": "stdout",
     "output_type": "stream",
     "text": [
      "Epoch 1/4\n",
      "188/188 [==============================] - 86s 459ms/step - loss: 0.1327 - accuracy: 0.9478 - val_loss: 0.2168 - val_accuracy: 0.9320\n",
      "Epoch 2/4\n",
      "188/188 [==============================] - 86s 458ms/step - loss: 0.0970 - accuracy: 0.9622 - val_loss: 0.5410 - val_accuracy: 0.8505\n",
      "Epoch 3/4\n",
      "188/188 [==============================] - 86s 456ms/step - loss: 0.1134 - accuracy: 0.9573 - val_loss: 0.2845 - val_accuracy: 0.9190\n",
      "Epoch 4/4\n",
      "188/188 [==============================] - 86s 455ms/step - loss: 0.1050 - accuracy: 0.9592 - val_loss: 0.2422 - val_accuracy: 0.9365\n"
     ]
    }
   ],
   "source": [
    "r=model.fit_generator(\n",
    "    training_set,\n",
    "    validation_data=val_set,\n",
    "    epochs=4,\n",
    "    steps_per_epoch=len(training_set),\n",
    "    validation_steps=len(val_set)\n",
    ")"
   ]
  },
  {
   "cell_type": "code",
   "execution_count": 75,
   "metadata": {
    "colab": {
     "base_uri": "https://localhost:8080/",
     "height": 265
    },
    "colab_type": "code",
    "executionInfo": {
     "elapsed": 349700,
     "status": "ok",
     "timestamp": 1597496132529,
     "user": {
      "displayName": "Vishal Vanpariya",
      "photoUrl": "https://lh3.googleusercontent.com/a-/AOh14GjoJCODMCI9tWxHtOBKfgh2TVA6e1WZehcTvuutNg=s64",
      "userId": "03081609474255309688"
     },
     "user_tz": -330
    },
    "id": "n5qsz6ns8XON",
    "outputId": "692b03dd-39df-4987-f82a-7c0e1da9c1c9"
   },
   "outputs": [
    {
     "data": {
      "image/png": "[encoded data removed]",
      "text/plain": [
       "<Figure size 432x288 with 1 Axes>"
      ]
     },
     "metadata": {
      "needs_background": "light",
      "tags": []
     },
     "output_type": "display_data"
    }
   ],
   "source": [
    "plt.plot(r.history['loss'],label='train loss')\n",
    "plt.plot(r.history['val_loss'],label='val loss')\n",
    "plt.legend()\n",
    "plt.show()"
   ]
  },
  {
   "cell_type": "code",
   "execution_count": 76,
   "metadata": {
    "colab": {
     "base_uri": "https://localhost:8080/",
     "height": 265
    },
    "colab_type": "code",
    "executionInfo": {
     "elapsed": 349582,
     "status": "ok",
     "timestamp": 1597496132532,
     "user": {
      "displayName": "Vishal Vanpariya",
      "photoUrl": "https://lh3.googleusercontent.com/a-/AOh14GjoJCODMCI9tWxHtOBKfgh2TVA6e1WZehcTvuutNg=s64",
      "userId": "03081609474255309688"
     },
     "user_tz": -330
    },
    "id": "fEtx2saw8XOQ",
    "outputId": "8f686879-8e02-4ad4-aeac-82dec825295b"
   },
   "outputs": [
    {
     "data": {
      "image/png": "[encoded data removed]",
      "text/plain": [
       "<Figure size 432x288 with 1 Axes>"
      ]
     },
     "metadata": {
      "needs_background": "light",
      "tags": []
     },
     "output_type": "display_data"
    }
   ],
   "source": [
    "plt.plot(r.history['accuracy'],label='train acc')\n",
    "plt.plot(r.history['val_accuracy'],label='val acc')\n",
    "plt.legend()\n",
    "plt.show()"
   ]
  },
  {
   "cell_type": "code",
   "execution_count": 77,
   "metadata": {
    "colab": {},
    "colab_type": "code",
    "executionInfo": {
     "elapsed": 349442,
     "status": "ok",
     "timestamp": 1597496132536,
     "user": {
      "displayName": "Vishal Vanpariya",
      "photoUrl": "https://lh3.googleusercontent.com/a-/AOh14GjoJCODMCI9tWxHtOBKfgh2TVA6e1WZehcTvuutNg=s64",
      "userId": "03081609474255309688"
     },
     "user_tz": -330
    },
    "id": "o2mIcP6B8XOU"
   },
   "outputs": [],
   "source": [
    "model.save('final.h5')"
   ]
  },
  {
   "cell_type": "code",
   "execution_count": 78,
   "metadata": {
    "colab": {},
    "colab_type": "code",
    "executionInfo": {
     "elapsed": 359654,
     "status": "ok",
     "timestamp": 1597496142838,
     "user": {
      "displayName": "Vishal Vanpariya",
      "photoUrl": "https://lh3.googleusercontent.com/a-/AOh14GjoJCODMCI9tWxHtOBKfgh2TVA6e1WZehcTvuutNg=s64",
      "userId": "03081609474255309688"
     },
     "user_tz": -330
    },
    "id": "o45O_VbM8XOY"
   },
   "outputs": [],
   "source": [
    "test_pred=model.predict(test_set)"
   ]
  },
  {
   "cell_type": "code",
   "execution_count": 79,
   "metadata": {
    "colab": {
     "base_uri": "https://localhost:8080/",
     "height": 309
    },
    "colab_type": "code",
    "executionInfo": {
     "elapsed": 359532,
     "status": "ok",
     "timestamp": 1597496142846,
     "user": {
      "displayName": "Vishal Vanpariya",
      "photoUrl": "https://lh3.googleusercontent.com/a-/AOh14GjoJCODMCI9tWxHtOBKfgh2TVA6e1WZehcTvuutNg=s64",
      "userId": "03081609474255309688"
     },
     "user_tz": -330
    },
    "id": "T2t1c6068XOd",
    "outputId": "05028576-750c-47e5-8d68-7ec8586ae9c6",
    "scrolled": false
   },
   "outputs": [
    {
     "name": "stdout",
     "output_type": "stream",
     "text": [
      "0\n"
     ]
    },
    {
     "data": {
      "text/plain": [
       "<matplotlib.image.AxesImage at 0x7f70dcc38588>"
      ]
     },
     "execution_count": 79,
     "metadata": {
      "tags": []
     },
     "output_type": "execute_result"
    },
    {
     "data": {
      "image/png": "[encoded data removed]",
      "text/plain": [
       "<Figure size 288x288 with 1 Axes>"
      ]
     },
     "metadata": {
      "needs_background": "light",
      "tags": []
     },
     "output_type": "display_data"
    }
   ],
   "source": [
    "print(np.argmax(test_pred[15])) #0 is cat 1 is dog\n",
    "plt.matshow(test_set[0][0][15])"
   ]
  },
  {
   "cell_type": "code",
   "execution_count": 80,
   "metadata": {
    "colab": {
     "base_uri": "https://localhost:8080/",
     "height": 136
    },
    "colab_type": "code",
    "executionInfo": {
     "elapsed": 359399,
     "status": "ok",
     "timestamp": 1597496142848,
     "user": {
      "displayName": "Vishal Vanpariya",
      "photoUrl": "https://lh3.googleusercontent.com/a-/AOh14GjoJCODMCI9tWxHtOBKfgh2TVA6e1WZehcTvuutNg=s64",
      "userId": "03081609474255309688"
     },
     "user_tz": -330
    },
    "id": "y27ueoJI8XOg",
    "outputId": "03b2b9cf-d3fb-4e76-a71d-e5ace2debac3"
   },
   "outputs": [
    {
     "data": {
      "text/plain": [
       "array([[2.83649433e-06, 9.99997139e-01],\n",
       "       [1.09989315e-07, 9.99999881e-01],\n",
       "       [1.25647803e-05, 9.99987483e-01],\n",
       "       ...,\n",
       "       [8.77540350e-01, 1.22459710e-01],\n",
       "       [2.45207277e-09, 1.00000000e+00],\n",
       "       [9.96585131e-01, 3.41483415e-03]], dtype=float32)"
      ]
     },
     "execution_count": 80,
     "metadata": {
      "tags": []
     },
     "output_type": "execute_result"
    }
   ],
   "source": [
    "test_pred"
   ]
  },
  {
   "cell_type": "code",
   "execution_count": 81,
   "metadata": {
    "colab": {
     "base_uri": "https://localhost:8080/",
     "height": 51
    },
    "colab_type": "code",
    "executionInfo": {
     "elapsed": 365308,
     "status": "ok",
     "timestamp": 1597496148914,
     "user": {
      "displayName": "Vishal Vanpariya",
      "photoUrl": "https://lh3.googleusercontent.com/a-/AOh14GjoJCODMCI9tWxHtOBKfgh2TVA6e1WZehcTvuutNg=s64",
      "userId": "03081609474255309688"
     },
     "user_tz": -330
    },
    "id": "48V6lACQ8XOj",
    "outputId": "fcdf384a-3d76-4320-de86-35fd79a17f62"
   },
   "outputs": [
    {
     "name": "stdout",
     "output_type": "stream",
     "text": [
      "63/63 [==============================] - 8s 134ms/step - loss: 0.2700 - accuracy: 0.9220\n"
     ]
    },
    {
     "data": {
      "text/plain": [
       "[0.27003878355026245, 0.921999990940094]"
      ]
     },
     "execution_count": 81,
     "metadata": {
      "tags": []
     },
     "output_type": "execute_result"
    }
   ],
   "source": [
    "model.evaluate(test_set)"
   ]
  },
  {
   "cell_type": "code",
   "execution_count": 82,
   "metadata": {
    "colab": {},
    "colab_type": "code",
    "executionInfo": {
     "elapsed": 4246,
     "status": "ok",
     "timestamp": 1597496230710,
     "user": {
      "displayName": "Vishal Vanpariya",
      "photoUrl": "https://lh3.googleusercontent.com/a-/AOh14GjoJCODMCI9tWxHtOBKfgh2TVA6e1WZehcTvuutNg=s64",
      "userId": "03081609474255309688"
     },
     "user_tz": -330
    },
    "id": "FiMGqrQr8XOn"
   },
   "outputs": [],
   "source": [
    "!cp /content/final.h5 /content/drive/My\\ Drive/Colab\\ Notebooks"
   ]
  },
  {
   "cell_type": "code",
   "execution_count": null,
   "metadata": {
    "colab": {},
    "colab_type": "code",
    "id": "dggToBKrMfG_"
   },
   "outputs": [],
   "source": []
  }
 ],
 "metadata": {
  "accelerator": "GPU",
  "colab": {
   "collapsed_sections": [],
   "name": "VGG16.ipynb",
   "provenance": []
  },
  "kernelspec": {
   "display_name": "tensorflow",
   "language": "python",
   "name": "tensorflow"
  },
  "language_info": {
   "codemirror_mode": {
    "name": "ipython",
    "version": 3
   },
   "file_extension": ".py",
   "mimetype": "text/x-python",
   "name": "python",
   "nbconvert_exporter": "python",
   "pygments_lexer": "ipython3",
   "version": "3.7.7"
  }
 },
 "nbformat": 4,
 "nbformat_minor": 1
}
